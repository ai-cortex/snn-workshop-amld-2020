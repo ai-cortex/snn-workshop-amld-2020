{
 "cells": [
  {
   "cell_type": "markdown",
   "metadata": {},
   "source": [
    "# Training a Spiking Convolutional Neural Network for analysing DVS data"
   ]
  },
  {
   "cell_type": "markdown",
   "metadata": {},
   "source": [
    "## Loading and understanding the training data"
   ]
  },
  {
   "cell_type": "code",
   "execution_count": null,
   "metadata": {},
   "outputs": [],
   "source": [
    "from aermanager import AERFolderDataset\n",
    "from torchvision.transforms import ToTensor\n",
    "from torch.utils.data import DataLoader\n",
    "\n",
    "FOLDER = '/home/martino/Work/synoploss/mnist_dvs/data/train/'\n",
    "BATCH_SIZE = 256\n",
    "\n",
    "train_dataset = AERFolderDataset(\n",
    "    root=FOLDER,\n",
    "    from_spiketrain=False,\n",
    "    transform=ToTensor(),\n",
    ")\n",
    "\n",
    "print(\"Number of training frames:\", len(train_dataset))\n",
    "\n",
    "train_dataloader = DataLoader(train_dataset, batch_size=BATCH_SIZE, shuffle=True)"
   ]
  },
  {
   "cell_type": "code",
   "execution_count": null,
   "metadata": {},
   "outputs": [],
   "source": [
    "# The dataset object contains all our training images and labels.\n",
    "# Have a look at how they look like.\n",
    "\n",
    "sample, label = train_dataset[0]\n",
    "\n",
    "import matplotlib.pyplot as plt\n",
    "%matplotlib inline\n",
    "\n",
    "plt.imshow(sample.squeeze())  # remove the extra dimension\n",
    "print(label)"
   ]
  },
  {
   "cell_type": "markdown",
   "metadata": {},
   "source": [
    "## Defining a model"
   ]
  },
  {
   "cell_type": "code",
   "execution_count": null,
   "metadata": {},
   "outputs": [],
   "source": [
    "import torch\n",
    "\n",
    "class MNISTClassifier(torch.nn.Module):\n",
    "    def __init__(self, quantize=False):\n",
    "        super().__init__()\n",
    "\n",
    "        self.input_relu = torch.nn.ReLU()\n",
    "\n",
    "        self.seq = torch.nn.Sequential(\n",
    "            torch.nn.Conv2d(in_channels=1, out_channels=8,\n",
    "                            kernel_size=(3, 3), bias=False),\n",
    "            torch.nn.ReLU(),\n",
    "            torch.nn.AvgPool2d(kernel_size=(2, 2), stride=(2, 2)),\n",
    "            torch.nn.Conv2d(in_channels=8, out_channels=12,\n",
    "                            kernel_size=(3, 3), bias=False),\n",
    "            torch.nn.ReLU(),\n",
    "            torch.nn.AvgPool2d(kernel_size=(2, 2), stride=(2, 2)),\n",
    "            torch.nn.Conv2d(in_channels=12, out_channels=12,\n",
    "                            kernel_size=(3, 3), bias=False),\n",
    "            torch.nn.ReLU(),\n",
    "            torch.nn.AvgPool2d(kernel_size=(2, 2), stride=(2, 2)),\n",
    "            torch.nn.Dropout2d(0.5),\n",
    "            torch.nn.Flatten(),\n",
    "            torch.nn.Linear(432, 10, bias=False),\n",
    "            torch.nn.ReLU(),   # note that it's needed, but odd, to add a ReLU at the end\n",
    "        )\n",
    "\n",
    "    def forward(self, x):\n",
    "        x = self.input_relu(x)\n",
    "        return self.seq(x)\n"
   ]
  },
  {
   "cell_type": "code",
   "execution_count": null,
   "metadata": {},
   "outputs": [],
   "source": [
    "model = MNISTClassifier()\n",
    "model.cuda()"
   ]
  },
  {
   "cell_type": "markdown",
   "metadata": {},
   "source": [
    "## Main training phase"
   ]
  },
  {
   "cell_type": "code",
   "execution_count": null,
   "metadata": {},
   "outputs": [],
   "source": [
    "# defining the loss function\n",
    "criterion = torch.nn.CrossEntropyLoss()\n",
    "# defining the Adam optimizer\n",
    "optimizer = torch.optim.Adam(model.parameters(), lr=1e-3)"
   ]
  },
  {
   "cell_type": "code",
   "execution_count": null,
   "metadata": {},
   "outputs": [],
   "source": [
    "# Set up a training loop\n",
    "from tqdm.notebook import tqdm\n",
    "n_epochs = 3\n",
    "\n",
    "for epoch in range(n_epochs):\n",
    "    print(\"Epoch\", epoch+1)\n",
    "    progress_bar = tqdm(train_dataloader)\n",
    "    for (images, labels) in progress_bar:\n",
    "        # move to the GPU\n",
    "        images = images.cuda()\n",
    "        labels = labels.cuda()\n",
    "        \n",
    "        # reset the gradients\n",
    "        optimizer.zero_grad()\n",
    "        \n",
    "        # forward pass through the network\n",
    "        outputs = model(images)\n",
    "        \n",
    "        # compute and backpropagate the loss\n",
    "        loss_value = criterion(outputs, labels)\n",
    "        loss_value.backward()\n",
    "        optimizer.step()\n",
    "        progress_bar.set_postfix(LOSS=loss_value.item())"
   ]
  },
  {
   "cell_type": "markdown",
   "metadata": {},
   "source": [
    "## Live demo"
   ]
  },
  {
   "cell_type": "code",
   "execution_count": null,
   "metadata": {},
   "outputs": [],
   "source": [
    "from sinabs.from_torch import from_model\n",
    "\n",
    "net = from_model(\n",
    "    model.seq,\n",
    "    input_shape=(1, 64, 64),\n",
    "    threshold=1.0,\n",
    "    membrane_subtract=1.0,\n",
    "    threshold_low=-5.0,\n",
    ").cuda()\n",
    "\n",
    "# we resize and crop our input so that it matches the training data\n",
    "adaptivepool = torch.nn.AdaptiveAvgPool2d((64, 64))\n",
    "resize_factor = 16\n",
    "def transform(x):\n",
    "    x = x[:, :, 2:-2, 45:-45]  # crop\n",
    "    x = torch.tensor(x).float().cuda()\n",
    "    x = adaptivepool(x) * resize_factor\n",
    "    return x"
   ]
  },
  {
   "cell_type": "code",
   "execution_count": null,
   "metadata": {},
   "outputs": [],
   "source": [
    "from aermanager import LiveDv\n",
    "\n",
    "live = LiveDv(host='localhost', port=7777, qlen=64)"
   ]
  },
  {
   "cell_type": "code",
   "execution_count": null,
   "metadata": {},
   "outputs": [],
   "source": [
    "from IPython.display import display, clear_output\n",
    "\n",
    "while True:\n",
    "    batch = live.get_batch()\n",
    "    batch = transform(batch)\n",
    "\n",
    "    out = net(batch)\n",
    "    maxval, pred_label = torch.max(out.sum(0), dim=0)\n",
    "\n",
    "    THR = 30\n",
    "    clear_output()\n",
    "    if maxval > THR:\n",
    "        display(pred_label.item())\n",
    "    else:\n",
    "        display('.')"
   ]
  },
  {
   "cell_type": "code",
   "execution_count": null,
   "metadata": {},
   "outputs": [],
   "source": []
  }
 ],
 "metadata": {
  "kernelspec": {
   "display_name": "Python 3",
   "language": "python",
   "name": "python3"
  },
  "language_info": {
   "codemirror_mode": {
    "name": "ipython",
    "version": 3
   },
   "file_extension": ".py",
   "mimetype": "text/x-python",
   "name": "python",
   "nbconvert_exporter": "python",
   "pygments_lexer": "ipython3",
   "version": "3.7.5"
  }
 },
 "nbformat": 4,
 "nbformat_minor": 2
}
